S{
 "cells": [
  {
   "cell_type": "markdown",
   "metadata": {},
   "source": [
    "#### A complete source code is available on [GitHub](https://github.com/clumdee/transfer_matrix)."
   ]
  },
  {
   "cell_type": "markdown",
   "metadata": {},
   "source": [
    "# 0. Introduction\n",
    "\n",
    "This notebook provides interactive experience to help understand \n",
    "1. Optical Reflectance (**R**) and \n",
    "2. Optical Transmittance (**T**) of thin film layers. "
   ]
  },
  {
   "cell_type": "markdown",
   "metadata": {},
   "source": [
    "# 1. Running instruction\n",
    "1. Go to `Cell` in the `MENU BAR` and select `Run All`.\n",
    "2. You can also select each cell, then press `Ctrl` + `Enter` to run / re-run them, separately."
   ]
  },
  {
   "cell_type": "markdown",
   "metadata": {},
   "source": [
    "# 2. Initialize environment\n",
    "- **Wavelength** is now fixed to `400-700 nm`\n",
    "- **Angle of Incidence** is now fixed to `0-89 degree` "
   ]
  },
  {
   "cell_type": "code",
   "execution_count": 3,
   "metadata": {},
   "outputs": [],
   "source": [
    "# import the method to create an interactive box\n",
    "from dev.widgets_func import get_interactive_box\n",
    "\n",
    "\n",
    "# get interactive box\n",
    "interactive_box = get_interactive_box()"
   ]
  },
  {
   "cell_type": "markdown",
   "metadata": {},
   "source": [
    "# 3. Interact with the environment\n",
    "1. Pass information of each film layer (separated with `;` for multiple layers, thickness in **nanometer**).\n",
    "2. Click `Update layers`.\n",
    "3. Toggle through different excitation modes: `Total`, `TE`, `TM`.\n",
    "4. Move `theta_inc` and `wavelength` sliders to inspect **R** and **T** at different exitation conditions."
   ]
  },
  {
   "cell_type": "code",
   "execution_count": null,
   "metadata": {
    "scrolled": false
   },
   "outputs": [],
   "source": [
    "interactive_box"
   ]
  }
 ],
 "metadata": {
  "kernelspec": {
   "display_name": "Python 3 (ipykernel)",
   "language": "python",
   "name": "python3"
  },
  "language_info": {
   "codemirror_mode": {
    "name": "ipython",
    "version": 3
   },
   "file_extension": ".py",
   "mimetype": "text/x-python",
   "name": "python",
   "nbconvert_exporter": "python",
   "pygments_lexer": "ipython3",
   "version": "3.9.12"
   "version": "3.11.4"
  }
 },
 "nbformat": 4,
 "nbformat_minor": 2
}
